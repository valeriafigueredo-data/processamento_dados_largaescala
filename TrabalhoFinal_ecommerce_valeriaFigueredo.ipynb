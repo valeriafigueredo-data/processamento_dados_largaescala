{
  "nbformat": 4,
  "nbformat_minor": 0,
  "metadata": {
    "colab": {
      "provenance": []
    },
    "kernelspec": {
      "name": "python3",
      "display_name": "Python 3"
    },
    "language_info": {
      "name": "python"
    }
  },
  "cells": [
    {
      "cell_type": "markdown",
      "source": [
        "**Trabalho Final da disciplina Processamento de Dados em Larga Escala**\n",
        "\n",
        "**Discentes:**\n",
        "\n",
        "Valéria Cristina A. R. de Figueredo -- vcarf@cesar.school\n",
        "\n",
        "Manuela de Lacerda Bezerra Carvalho -- mlbc@cesar.school\n",
        "\n",
        "**Docente:** Anderson Neves"
      ],
      "metadata": {
        "id": "e8PEFqCP80K3"
      }
    },
    {
      "cell_type": "markdown",
      "source": [
        "# **1. BIBLIOTECA**"
      ],
      "metadata": {
        "id": "8Z1FbDqT_dNn"
      }
    },
    {
      "cell_type": "code",
      "execution_count": null,
      "metadata": {
        "colab": {
          "base_uri": "https://localhost:8080/"
        },
        "id": "WrwWWi9Q7aGw",
        "outputId": "7baf477f-bf16-446e-98de-72d0f5d5a8cd"
      },
      "outputs": [
        {
          "output_type": "stream",
          "name": "stdout",
          "text": [
            "Requirement already satisfied: kagglehub in /usr/local/lib/python3.11/dist-packages (0.3.10)\n",
            "Requirement already satisfied: kaggle in /usr/local/lib/python3.11/dist-packages (1.7.4.2)\n",
            "Requirement already satisfied: packaging in /usr/local/lib/python3.11/dist-packages (from kagglehub) (24.2)\n",
            "Requirement already satisfied: pyyaml in /usr/local/lib/python3.11/dist-packages (from kagglehub) (6.0.2)\n",
            "Requirement already satisfied: requests in /usr/local/lib/python3.11/dist-packages (from kagglehub) (2.32.3)\n",
            "Requirement already satisfied: tqdm in /usr/local/lib/python3.11/dist-packages (from kagglehub) (4.67.1)\n",
            "Requirement already satisfied: bleach in /usr/local/lib/python3.11/dist-packages (from kaggle) (6.2.0)\n",
            "Requirement already satisfied: certifi>=14.05.14 in /usr/local/lib/python3.11/dist-packages (from kaggle) (2025.1.31)\n",
            "Requirement already satisfied: charset-normalizer in /usr/local/lib/python3.11/dist-packages (from kaggle) (3.4.1)\n",
            "Requirement already satisfied: idna in /usr/local/lib/python3.11/dist-packages (from kaggle) (3.10)\n",
            "Requirement already satisfied: protobuf in /usr/local/lib/python3.11/dist-packages (from kaggle) (5.29.4)\n",
            "Requirement already satisfied: python-dateutil>=2.5.3 in /usr/local/lib/python3.11/dist-packages (from kaggle) (2.8.2)\n",
            "Requirement already satisfied: python-slugify in /usr/local/lib/python3.11/dist-packages (from kaggle) (8.0.4)\n",
            "Requirement already satisfied: setuptools>=21.0.0 in /usr/local/lib/python3.11/dist-packages (from kaggle) (75.2.0)\n",
            "Requirement already satisfied: six>=1.10 in /usr/local/lib/python3.11/dist-packages (from kaggle) (1.17.0)\n",
            "Requirement already satisfied: text-unidecode in /usr/local/lib/python3.11/dist-packages (from kaggle) (1.3)\n",
            "Requirement already satisfied: urllib3>=1.15.1 in /usr/local/lib/python3.11/dist-packages (from kaggle) (2.3.0)\n",
            "Requirement already satisfied: webencodings in /usr/local/lib/python3.11/dist-packages (from kaggle) (0.5.1)\n"
          ]
        }
      ],
      "source": [
        "!pip install kagglehub kaggle"
      ]
    },
    {
      "cell_type": "code",
      "source": [
        "import os\n",
        "import pandas as pd\n",
        "import kagglehub\n",
        "import pyspark.sql.functions as F\n",
        "from pyspark.sql import SparkSession\n"
      ],
      "metadata": {
        "id": "WEPpJ4uBa4ir"
      },
      "execution_count": null,
      "outputs": []
    },
    {
      "cell_type": "code",
      "source": [
        "!pip install --upgrade pyspark"
      ],
      "metadata": {
        "colab": {
          "base_uri": "https://localhost:8080/"
        },
        "id": "JFLcNleLjRYD",
        "outputId": "dabc4a05-dc04-47f2-8dd1-3bddbbf61c4d"
      },
      "execution_count": null,
      "outputs": [
        {
          "output_type": "stream",
          "name": "stdout",
          "text": [
            "Requirement already satisfied: pyspark in /usr/local/lib/python3.11/dist-packages (3.5.5)\n",
            "Requirement already satisfied: py4j==0.10.9.7 in /usr/local/lib/python3.11/dist-packages (from pyspark) (0.10.9.7)\n"
          ]
        }
      ]
    },
    {
      "cell_type": "markdown",
      "source": [
        "# **2. \"IMPORTAÇÃO DOS DADOS DO KAGGLE\"**"
      ],
      "metadata": {
        "id": "gMZKVWDQ_ybK"
      }
    },
    {
      "cell_type": "code",
      "source": [
        "# Função para garantir que a autenticação Kaggle foi configurada\n",
        "def check_kaggle_auth():\n",
        "    if not os.path.exists(os.path.expanduser(\"~/.kaggle/kaggle.json\")):\n",
        "        raise FileNotFoundError(\"Arquivo de autenticação do Kaggle não encontrado. Por favor, coloque o arquivo 'kaggle.json' em ~/.kaggle/\")"
      ],
      "metadata": {
        "id": "A7I91Tk9N6Ry"
      },
      "execution_count": null,
      "outputs": []
    },
    {
      "cell_type": "code",
      "source": [
        "# Baixar a versão mais recente do dataset\n",
        "path = kagglehub.dataset_download(\"mkechinov/ecommerce-behavior-data-from-multi-category-store\")\n",
        "\n",
        "print(\"Caminho para os arquivos do dataset:\", path)"
      ],
      "metadata": {
        "colab": {
          "base_uri": "https://localhost:8080/"
        },
        "id": "4oVMYa-28RzY",
        "outputId": "deb4b965-24a9-4f48-ea24-2227cd41549f"
      },
      "execution_count": null,
      "outputs": [
        {
          "output_type": "stream",
          "name": "stdout",
          "text": [
            "Warning: Looks like you're using an outdated `kagglehub` version (installed: 0.3.10), please consider upgrading to the latest version (0.3.11).\n",
            "Downloading from https://www.kaggle.com/api/v1/datasets/download/mkechinov/ecommerce-behavior-data-from-multi-category-store?dataset_version_number=8...\n"
          ]
        },
        {
          "output_type": "stream",
          "name": "stderr",
          "text": [
            "100%|██████████| 4.29G/4.29G [00:47<00:00, 96.1MB/s]"
          ]
        },
        {
          "output_type": "stream",
          "name": "stdout",
          "text": [
            "Extracting files...\n"
          ]
        },
        {
          "output_type": "stream",
          "name": "stderr",
          "text": [
            "\n"
          ]
        },
        {
          "output_type": "stream",
          "name": "stdout",
          "text": [
            "Caminho para os arquivos do dataset: /root/.cache/kagglehub/datasets/mkechinov/ecommerce-behavior-data-from-multi-category-store/versions/8\n"
          ]
        }
      ]
    },
    {
      "cell_type": "code",
      "source": [
        "# Caminho para os arquivos\n",
        "dataset_path = '/root/.cache/kagglehub/datasets/mkechinov/ecommerce-behavior-data-from-multi-category-store/versions/8'\n",
        "\n",
        "# Listando os arquivos no diretório\n",
        "files = os.listdir(dataset_path)\n",
        "print(\"Arquivos encontrados no diretório:\", files)"
      ],
      "metadata": {
        "colab": {
          "base_uri": "https://localhost:8080/"
        },
        "id": "YStMT12zggBf",
        "outputId": "ddf99367-775f-4cc3-977c-fe46fdd11640"
      },
      "execution_count": null,
      "outputs": [
        {
          "output_type": "stream",
          "name": "stdout",
          "text": [
            "Arquivos encontrados no diretório: ['2019-Nov.csv', '2019-Oct.csv']\n"
          ]
        }
      ]
    },
    {
      "cell_type": "code",
      "source": [
        "#Tamanho do arquivo '2019-Oct.csv'\n",
        "# Caminho do arquivo\n",
        "caminho_arquivo ='/root/.cache/kagglehub/datasets/mkechinov/ecommerce-behavior-data-from-multi-category-store/versions/8/2019-Oct.csv'\n",
        "\n",
        "# Tamanho do arquivo em bytes\n",
        "tamanho_bytes = os.path.getsize(caminho_arquivo)\n",
        "\n",
        "# Converter bytes para GB\n",
        "tamanho_gb = tamanho_bytes / (1024 ** 3)\n",
        "\n",
        "print(f'Tamanho do arquivo: {tamanho_gb:.2f} GB')"
      ],
      "metadata": {
        "colab": {
          "base_uri": "https://localhost:8080/"
        },
        "id": "mLdYqTg8QYlH",
        "outputId": "b9cae865-f1e0-45ff-c30d-832df8b72362"
      },
      "execution_count": null,
      "outputs": [
        {
          "output_type": "stream",
          "name": "stdout",
          "text": [
            "Tamanho do arquivo: 5.28 GB\n"
          ]
        }
      ]
    },
    {
      "cell_type": "markdown",
      "source": [
        "# **3. DICIONÁRIO DOS DADOS**"
      ],
      "metadata": {
        "id": "KJT-Smh5U0oe"
      }
    },
    {
      "cell_type": "markdown",
      "source": [
        "\n",
        "\n",
        "O dataset \"eCommerce behavior data from multi category store\" possui dados de comportamento de eCommerce de loja de múltiplas categorias.\n",
        "\n",
        "Há dados de comportamento de 7 meses (de outubro de 2019 a abril de 2020) de uma grande loja online. No kaggle, está disponível para download direto apenas os meses de outubro e novembro de 2019.\n",
        "\n",
        "Cada linha do arquivo representa um evento. Todos os eventos estão relacionados a produtos e usuários. Cada evento é uma relação de muitos para muitos entre produtos e usuários.\n",
        "\n",
        "Os Dados foram coletados pelo projeto Open CDP.\n",
        "\n",
        "As colunas e seus significados são os seguintes:\n",
        "\n",
        "\n",
        "\n",
        "**Propriedade**          -                 **Descrição**\n",
        "\n",
        "event_time\t             - Hora em que o evento ocorreu (em UTC).\n",
        "\n",
        "event_type\t             - Tipo de evento (purchase, view ou cart).\n",
        "\n",
        "product_id\t             - ID de um produto.\n",
        "\n",
        "category_id\t             - ID da categoria do produto.\n",
        "\n",
        "category_code\t           - Taxonomia da categoria do produto (identificação da categoria).\n",
        "\n",
        "brand\t                   - Nome da marca em letras minúsculas.\n",
        "\n",
        "price\t                   - Preço do produto em formato float.\n",
        "\n",
        "user_id\t                 - ID permanente do usuário.\n",
        "\n",
        "user_session             - ID temporário da sessão do usuário. É o mesmo para cada sessão do usuário. É alterado sempre que o usuário retorna à loja online após uma longa pausa.\n",
        "\n",
        "\n",
        "[LINK DO DATASET ](https://www.kaggle.com/datasets/mkechinov/ecommerce-behavior-data-from-multi-category-store?select=2019-Nov.csv)\n",
        "\n",
        "É importante ressaltar que o arquivo que será utilizado é o '2019-Oct.csv', com tamanho 5.67 GB.\n",
        "\n"
      ],
      "metadata": {
        "id": "QQbnGoL4CVfc"
      }
    },
    {
      "cell_type": "markdown",
      "source": [
        "# **4. AMBIENTE SPARK E BREVE ANÁLISE EXPLORATÓRIA**"
      ],
      "metadata": {
        "id": "hfl7An5nAids"
      }
    },
    {
      "cell_type": "code",
      "source": [
        "os.environ['PYSPARK_SUBMIT_ARGS'] = '\\\n",
        "    --driver-memory 4G \\\n",
        "    --executor-memory 4G \\\n",
        "    pyspark-shell'"
      ],
      "metadata": {
        "id": "uCkBYG74kEeu"
      },
      "execution_count": null,
      "outputs": []
    },
    {
      "cell_type": "code",
      "source": [
        "# Criando um cluster local com 1 executor e a quantidade de threads igual a quantidade de cores de CPU disponíveis\n",
        "\n",
        "spark = SparkSession.builder\\\n",
        "    .master(\"local[*]\")\\\n",
        "    .config(\"spark.driver.bindAddress\", \"127.0.0.1\")\\\n",
        "    .getOrCreate()\n",
        "spark"
      ],
      "metadata": {
        "colab": {
          "base_uri": "https://localhost:8080/",
          "height": 222
        },
        "id": "KNz6lPQ6iVCM",
        "outputId": "3593064b-1457-43af-c44b-eab68b4c85ef"
      },
      "execution_count": null,
      "outputs": [
        {
          "output_type": "execute_result",
          "data": {
            "text/plain": [
              "<pyspark.sql.session.SparkSession at 0x791b16ab6cd0>"
            ],
            "text/html": [
              "\n",
              "            <div>\n",
              "                <p><b>SparkSession - in-memory</b></p>\n",
              "                \n",
              "        <div>\n",
              "            <p><b>SparkContext</b></p>\n",
              "\n",
              "            <p><a href=\"http://292525dc015f:4040\">Spark UI</a></p>\n",
              "\n",
              "            <dl>\n",
              "              <dt>Version</dt>\n",
              "                <dd><code>v3.5.5</code></dd>\n",
              "              <dt>Master</dt>\n",
              "                <dd><code>local[*]</code></dd>\n",
              "              <dt>AppName</dt>\n",
              "                <dd><code>pyspark-shell</code></dd>\n",
              "            </dl>\n",
              "        </div>\n",
              "        \n",
              "            </div>\n",
              "        "
            ]
          },
          "metadata": {},
          "execution_count": 9
        }
      ]
    },
    {
      "cell_type": "code",
      "source": [
        "# Caminho do arquivo CSV (2019-Oct.csv)\n",
        "csv_file_path = '/root/.cache/kagglehub/datasets/mkechinov/ecommerce-behavior-data-from-multi-category-store/versions/8/2019-Oct.csv'\n",
        "# Ler o arquivo CSV\n",
        "df = spark.read.csv(csv_file_path, header=True, inferSchema=True)\n",
        "\n",
        "# Mostrar as primeiras linhas do DataFrame\n",
        "df.show()"
      ],
      "metadata": {
        "colab": {
          "base_uri": "https://localhost:8080/"
        },
        "id": "H80YeQ9GnhRO",
        "outputId": "e1857c3c-a102-44a1-f0e6-60c6c6c47fb8"
      },
      "execution_count": null,
      "outputs": [
        {
          "output_type": "stream",
          "name": "stdout",
          "text": [
            "+-------------------+----------+----------+-------------------+--------------------+--------+-------+---------+--------------------+\n",
            "|         event_time|event_type|product_id|        category_id|       category_code|   brand|  price|  user_id|        user_session|\n",
            "+-------------------+----------+----------+-------------------+--------------------+--------+-------+---------+--------------------+\n",
            "|2019-10-01 00:00:00|      view|  44600062|2103807459595387724|                NULL|shiseido|  35.79|541312140|72d76fde-8bb3-4e0...|\n",
            "|2019-10-01 00:00:00|      view|   3900821|2053013552326770905|appliances.enviro...|    aqua|   33.2|554748717|9333dfbd-b87a-470...|\n",
            "|2019-10-01 00:00:01|      view|  17200506|2053013559792632471|furniture.living_...|    NULL|  543.1|519107250|566511c2-e2e3-422...|\n",
            "|2019-10-01 00:00:01|      view|   1307067|2053013558920217191|  computers.notebook|  lenovo| 251.74|550050854|7c90fc70-0e80-459...|\n",
            "|2019-10-01 00:00:04|      view|   1004237|2053013555631882655|electronics.smart...|   apple|1081.98|535871217|c6bd7419-2748-4c5...|\n",
            "|2019-10-01 00:00:05|      view|   1480613|2053013561092866779|   computers.desktop|  pulser| 908.62|512742880|0d0d91c2-c9c2-4e8...|\n",
            "|2019-10-01 00:00:08|      view|  17300353|2053013553853497655|                NULL|   creed| 380.96|555447699|4fe811e9-91de-46d...|\n",
            "|2019-10-01 00:00:08|      view|  31500053|2053013558031024687|                NULL|luminarc|  41.16|550978835|6280d577-25c8-414...|\n",
            "|2019-10-01 00:00:10|      view|  28719074|2053013565480109009|  apparel.shoes.keds|   baden| 102.71|520571932|ac1cd4e5-a3ce-422...|\n",
            "|2019-10-01 00:00:11|      view|   1004545|2053013555631882655|electronics.smart...|  huawei| 566.01|537918940|406c46ed-90a4-478...|\n",
            "|2019-10-01 00:00:11|      view|   2900536|2053013554776244595|appliances.kitche...|elenberg|  51.46|555158050|b5bdd0b3-4ca2-4c5...|\n",
            "|2019-10-01 00:00:11|      view|   1005011|2053013555631882655|electronics.smart...| samsung| 900.64|530282093|50a293fb-5940-41b...|\n",
            "|2019-10-01 00:00:13|      view|   3900746|2053013552326770905|appliances.enviro...|   haier| 102.38|555444559|98b88fa0-d8fa-4b9...|\n",
            "|2019-10-01 00:00:15|      view|  44600062|2103807459595387724|                NULL|shiseido|  35.79|541312140|72d76fde-8bb3-4e0...|\n",
            "|2019-10-01 00:00:16|      view|  13500240|2053013557099889147|furniture.bedroom...|     brw|  93.18|555446365|7f0062d8-ead0-4e0...|\n",
            "|2019-10-01 00:00:17|      view|  23100006|2053013561638126333|                NULL|    NULL| 357.79|513642368|17566c27-0a8f-450...|\n",
            "|2019-10-01 00:00:18|      view|   1801995|2053013554415534427|electronics.video.tv|   haier| 193.03|537192226|e3151795-c355-4ef...|\n",
            "|2019-10-01 00:00:18|      view|  10900029|2053013555069845885|appliances.kitche...|   bosch|  58.95|519528062|901b9e3c-3f8f-414...|\n",
            "|2019-10-01 00:00:19|      view|   1306631|2053013558920217191|  computers.notebook|      hp| 580.89|550050854|7c90fc70-0e80-459...|\n",
            "|2019-10-01 00:00:19|      view|   1005135|2053013555631882655|electronics.smart...|   apple|1747.79|535871217|c6bd7419-2748-4c5...|\n",
            "+-------------------+----------+----------+-------------------+--------------------+--------+-------+---------+--------------------+\n",
            "only showing top 20 rows\n",
            "\n"
          ]
        }
      ]
    },
    {
      "cell_type": "code",
      "source": [
        "df.printSchema()  # Verificar o schema do DataFrame"
      ],
      "metadata": {
        "colab": {
          "base_uri": "https://localhost:8080/"
        },
        "id": "0v9pjUTCovgS",
        "outputId": "eeb88e66-0cf5-4cef-9b3c-0c4d71587015"
      },
      "execution_count": null,
      "outputs": [
        {
          "output_type": "stream",
          "name": "stdout",
          "text": [
            "root\n",
            " |-- event_time: timestamp (nullable = true)\n",
            " |-- event_type: string (nullable = true)\n",
            " |-- product_id: integer (nullable = true)\n",
            " |-- category_id: long (nullable = true)\n",
            " |-- category_code: string (nullable = true)\n",
            " |-- brand: string (nullable = true)\n",
            " |-- price: double (nullable = true)\n",
            " |-- user_id: integer (nullable = true)\n",
            " |-- user_session: string (nullable = true)\n",
            "\n"
          ]
        }
      ]
    },
    {
      "cell_type": "code",
      "source": [
        "df.columns"
      ],
      "metadata": {
        "colab": {
          "base_uri": "https://localhost:8080/"
        },
        "id": "Cqwr7VxVrCZ3",
        "outputId": "cc19993f-ee1b-45c4-877b-ee043388102d"
      },
      "execution_count": null,
      "outputs": [
        {
          "output_type": "execute_result",
          "data": {
            "text/plain": [
              "['event_time',\n",
              " 'event_type',\n",
              " 'product_id',\n",
              " 'category_id',\n",
              " 'category_code',\n",
              " 'brand',\n",
              " 'price',\n",
              " 'user_id',\n",
              " 'user_session']"
            ]
          },
          "metadata": {},
          "execution_count": 14
        }
      ]
    },
    {
      "cell_type": "code",
      "source": [
        "# Obter os valores distintos da coluna 'event_type'\n",
        "df.select('event_type').distinct().show()"
      ],
      "metadata": {
        "colab": {
          "base_uri": "https://localhost:8080/"
        },
        "id": "-hKNRp3vvJ_p",
        "outputId": "05a1034d-5a56-4c86-982b-875b146f54e4"
      },
      "execution_count": null,
      "outputs": [
        {
          "output_type": "stream",
          "name": "stdout",
          "text": [
            "+----------+\n",
            "|event_type|\n",
            "+----------+\n",
            "|  purchase|\n",
            "|      view|\n",
            "|      cart|\n",
            "+----------+\n",
            "\n"
          ]
        }
      ]
    },
    {
      "cell_type": "code",
      "source": [
        "# Contar o número de valores nulos na coluna 'event_type'\n",
        "df.filter(df['event_type'].isNull()).count()"
      ],
      "metadata": {
        "colab": {
          "base_uri": "https://localhost:8080/"
        },
        "id": "LuT8BsxuxvYd",
        "outputId": "9d2841e2-1e9c-4d5f-89e0-8364eab438f8"
      },
      "execution_count": null,
      "outputs": [
        {
          "output_type": "execute_result",
          "data": {
            "text/plain": [
              "0"
            ]
          },
          "metadata": {},
          "execution_count": 13
        }
      ]
    },
    {
      "cell_type": "markdown",
      "source": [
        "# **5. QUESTÕES**"
      ],
      "metadata": {
        "id": "Bxwtj1b1pxal"
      }
    },
    {
      "cell_type": "markdown",
      "source": [
        "**1. Quais são as top 3 marcas (brand) mais populares, ou seja, com mais eventos na categoria computers.notebook (notebook.computador)? Ordene pela quantidade de eventos.**"
      ],
      "metadata": {
        "id": "ocyndcmap1L5"
      }
    },
    {
      "cell_type": "code",
      "source": [
        "# Filtrar os dados pela categoria \"computers.notebook\"\n",
        "df_filtered = df.filter(df['category_code'] == 'computers.notebook')\n",
        "\n",
        "# Agrupar por marca (brand) e contar o número de eventos\n",
        "df_brand_count = df_filtered.groupBy('brand').agg(F.count('*').alias('events_count'))\n",
        "\n",
        "# Ordenar as marcas pela contagem de compras em ordem decrescente e pegar as top 3\n",
        "df_top3_brands = df_brand_count.orderBy(F.col('events_count').desc()).limit(3)\n",
        "\n",
        "# Exibir o resultado\n",
        "df_top3_brands.show()"
      ],
      "metadata": {
        "colab": {
          "base_uri": "https://localhost:8080/"
        },
        "id": "E9OiQrAbq1FA",
        "outputId": "7b6c3cce-61ec-45ba-96f8-da84f5f55f4d"
      },
      "execution_count": null,
      "outputs": [
        {
          "output_type": "stream",
          "name": "stdout",
          "text": [
            "+------+------------+\n",
            "| brand|events_count|\n",
            "+------+------------+\n",
            "|  acer|      332100|\n",
            "|lenovo|      277025|\n",
            "|    hp|      184966|\n",
            "+------+------------+\n",
            "\n"
          ]
        }
      ]
    },
    {
      "cell_type": "markdown",
      "source": [
        "**Resposta:**\n",
        "\n",
        "As Top três marcas mais populares (mais eventos) na categoria computers notebook foram acer, lenovo e hp, como exposto acima."
      ],
      "metadata": {
        "id": "YtFDNHK_MStP"
      }
    },
    {
      "cell_type": "markdown",
      "source": [
        "**2.Qual dia em outubro ocorreram mais compras (purchase)?**"
      ],
      "metadata": {
        "id": "gQhkksQ5yxhl"
      }
    },
    {
      "cell_type": "code",
      "source": [
        "# Converter a coluna 'event_time' para um formato de data\n",
        "df = df.withColumn('event_date', F.to_date(df['event_time']))\n",
        "\n",
        "# Filtrar apenas os eventos do tipo 'purchase' e para o mês de outubro\n",
        "df_october_purchases = df.filter((df['event_type'] == 'purchase') &\n",
        "                                 (F.month(df['event_date']) == 10)) # Finalidade: evitar erros, caso haja por equívoco no arquivo de outubro dados de outro mês.\n",
        "\n",
        "# Agrupar por data e contar o número de compras por dia\n",
        "df_daily_purchases = df_october_purchases.groupBy('event_date').agg(F.count('*').alias('purchase_count'))\n",
        "\n",
        "# Ordenar pelos dias com mais compras\n",
        "df_most_purchases_day = df_daily_purchases.orderBy(F.col('purchase_count').desc()).limit(1)\n",
        "\n",
        "# Exibir o resultado\n",
        "df_most_purchases_day.show()"
      ],
      "metadata": {
        "colab": {
          "base_uri": "https://localhost:8080/"
        },
        "id": "aoAtwqOduyyW",
        "outputId": "f92de96e-4db8-4539-ffca-335ce534e8a8"
      },
      "execution_count": null,
      "outputs": [
        {
          "output_type": "stream",
          "name": "stdout",
          "text": [
            "+----------+--------------+\n",
            "|event_date|purchase_count|\n",
            "+----------+--------------+\n",
            "|2019-10-16|         31394|\n",
            "+----------+--------------+\n",
            "\n"
          ]
        }
      ]
    },
    {
      "cell_type": "markdown",
      "source": [
        "**Resposta:**\n",
        "\n",
        "O dia em outubro que ocorreu mais compras (purchase) foi 16."
      ],
      "metadata": {
        "id": "6c4adkW3NSCM"
      }
    },
    {
      "cell_type": "markdown",
      "source": [
        "**3. Qual horário as pessoas colocaram mais produtos da categoria electronics.video.tv no carrinho (cart)?**"
      ],
      "metadata": {
        "id": "lTpB8vX03NBk"
      }
    },
    {
      "cell_type": "code",
      "source": [
        "# Converter a coluna 'event_time' para o tipo timestamp\n",
        "df = df.withColumn('time', F.col('event_time').cast('timestamp'))\n",
        "\n",
        "# Filtrar os dados pela categoria 'electronics.video.tv' e tipo de evento 'cart'\n",
        "df_filtered = df.filter((df['category_code'] == 'electronics.video.tv') & (df['event_type'] == 'cart'))\n",
        "\n",
        "# Extrair a hora do evento (sem os minutos e segundos)\n",
        "df_filtered = df_filtered.withColumn('hour', F.hour(df['time']))\n",
        "\n",
        "# Agrupar por hora e contar o número de eventos 'cart' para cada hora\n",
        "df_hourly_cart = df_filtered.groupBy('hour').agg(F.count('*').alias('cart_count'))\n",
        "\n",
        "# Ordenar pelos horários com mais eventos 'cart' e pegar o horário com mais adições ao carrinho\n",
        "df_most_cart_hour = df_hourly_cart.orderBy(F.col('cart_count').desc()).limit(1)\n",
        "\n",
        "# Exibir o resultado\n",
        "df_most_cart_hour.show()\n"
      ],
      "metadata": {
        "colab": {
          "base_uri": "https://localhost:8080/"
        },
        "id": "ZczvPSPE3IyO",
        "outputId": "c9e9c5c4-90fe-4163-91df-4534bf276fb7"
      },
      "execution_count": null,
      "outputs": [
        {
          "output_type": "stream",
          "name": "stdout",
          "text": [
            "+----+----------+\n",
            "|hour|cart_count|\n",
            "+----+----------+\n",
            "|   9|      2596|\n",
            "+----+----------+\n",
            "\n"
          ]
        }
      ]
    },
    {
      "cell_type": "markdown",
      "source": [
        "**Resposta:**\n",
        "\n",
        "As pessoas colocaram mais produtos da categoria electronics.video.tv no carrinho de compras (cart) às 9 horas da manhã."
      ],
      "metadata": {
        "id": "ZivxUjCd8ydC"
      }
    },
    {
      "cell_type": "markdown",
      "source": [
        "**4. Qual a quantidade de cada tipo de evento para as 3 marcas com a maior receita?**"
      ],
      "metadata": {
        "id": "aJ70QpT3Ur4S"
      }
    },
    {
      "cell_type": "code",
      "source": [
        "#3 Marcas com a maior receita\n",
        "df_brand = df.filter(df['event_type'] == 'purchase')\\\n",
        "    .groupBy('brand').agg(F.sum('price').alias('total_revenue'))\\\n",
        "    .orderBy(F.col('total_revenue').desc()).limit(3).cache()\n",
        "\n",
        "df_brand.show()"
      ],
      "metadata": {
        "colab": {
          "base_uri": "https://localhost:8080/"
        },
        "id": "6lJEHERhXp7u",
        "outputId": "18bdfbb9-a832-4274-f3d7-86577d3fa6a9"
      },
      "execution_count": null,
      "outputs": [
        {
          "output_type": "stream",
          "name": "stdout",
          "text": [
            "+-------+-------------------+\n",
            "|  brand|      total_revenue|\n",
            "+-------+-------------------+\n",
            "|  apple|1.112092688200001E8|\n",
            "|samsung|4.640753261000007E7|\n",
            "| xiaomi|  9194033.289999995|\n",
            "+-------+-------------------+\n",
            "\n"
          ]
        }
      ]
    },
    {
      "cell_type": "code",
      "source": [
        "top_3_brands = df_brand.select(F.collect_list('brand')).first()[0]\n",
        "top_3_brands"
      ],
      "metadata": {
        "colab": {
          "base_uri": "https://localhost:8080/"
        },
        "id": "uVzsI9rdZB-e",
        "outputId": "3798ecdb-d7ed-4b2d-e3b7-44c18aaabe4a"
      },
      "execution_count": null,
      "outputs": [
        {
          "output_type": "execute_result",
          "data": {
            "text/plain": [
              "['apple', 'samsung', 'xiaomi']"
            ]
          },
          "metadata": {},
          "execution_count": 19
        }
      ]
    },
    {
      "cell_type": "code",
      "source": [
        "# Quantidade de cada tipo de evento (purchase, view, cart) para as 3 marcas com maior receita\n",
        "df_5 = df.where(F.col('brand').isin(top_3_brands))\\\n",
        "      .groupBy('brand')\\\n",
        "      .pivot('event_type').agg(F.count(\"*\")).cache()\n",
        "\n",
        "df_5.show()"
      ],
      "metadata": {
        "colab": {
          "base_uri": "https://localhost:8080/"
        },
        "id": "tppmojoOU0Qp",
        "outputId": "9418f5c1-7690-4e3c-b7b5-4d5cf0bd12ef"
      },
      "execution_count": null,
      "outputs": [
        {
          "output_type": "stream",
          "name": "stdout",
          "text": [
            "+-------+------+--------+-------+\n",
            "|  brand|  cart|purchase|   view|\n",
            "+-------+------+--------+-------+\n",
            "|  apple|209084|  142873|3770597|\n",
            "|samsung|303249|  172896|4806630|\n",
            "| xiaomi|104497|   56616|2922650|\n",
            "+-------+------+--------+-------+\n",
            "\n"
          ]
        }
      ]
    },
    {
      "cell_type": "markdown",
      "source": [
        "**Resposta:**\n",
        "\n",
        "A **Apple** teve **209084** eventos do tipo **cart**, **142873** do tipo **purchase** e **3770597** do tipo **view**.\n",
        "\n",
        "A **Samsung** teve **303249** eventos do tipo **cart**, **172896** do tipo **purchase** e **4806630** do tipo **view**.\n",
        "\n",
        "A **Xiomi** teve **104497** eventos do tipo **cart**, **56616** do tipo **purchase** e **2922650** do tipo **view**."
      ],
      "metadata": {
        "id": "CErsr9vDahBB"
      }
    }
  ]
}