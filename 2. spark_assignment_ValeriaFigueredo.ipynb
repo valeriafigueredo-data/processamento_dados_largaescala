{
  "cells": [
    {
      "cell_type": "markdown",
      "source": [
        "**Segundo Trabalho da disciplina Processamento de Dados em Larga Escala**\n",
        "\n",
        "**Discentes:**\n",
        "\n",
        "*   **Valéria Cristina A. R. de Figueredo -- vcarf@cesar.school**\n",
        "*   **Manuela de Lacerda Bezerra Carvalho -- mlbc@cesar.school**\n",
        "\n",
        "\n",
        "**Docente: Anderson Neves**"
      ],
      "metadata": {
        "id": "KUAFQNB2LN0z"
      }
    },
    {
      "cell_type": "code",
      "execution_count": null,
      "metadata": {
        "colab": {
          "base_uri": "https://localhost:8080/"
        },
        "id": "hnW-8Ws00H0A",
        "outputId": "f7e836bc-2c37-4e1e-900e-48480a224def"
      },
      "outputs": [
        {
          "output_type": "stream",
          "name": "stdout",
          "text": [
            "Mounted at /content/drive\n"
          ]
        }
      ],
      "source": [
        "from google.colab import drive\n",
        "drive.mount('/content/drive')"
      ]
    },
    {
      "cell_type": "code",
      "execution_count": null,
      "metadata": {
        "id": "8dYSgJ9E0IuB",
        "colab": {
          "base_uri": "https://localhost:8080/"
        },
        "outputId": "0f604873-66c4-403b-a906-d03c21165ff8"
      },
      "outputs": [
        {
          "output_type": "stream",
          "name": "stdout",
          "text": [
            "Requirement already satisfied: pyspark in /usr/local/lib/python3.11/dist-packages (3.5.5)\n",
            "Requirement already satisfied: py4j==0.10.9.7 in /usr/local/lib/python3.11/dist-packages (from pyspark) (0.10.9.7)\n"
          ]
        }
      ],
      "source": [
        "!pip install --upgrade pyspark"
      ]
    },
    {
      "cell_type": "markdown",
      "metadata": {
        "id": "PRo2o_RlzwLJ",
        "tags": []
      },
      "source": [
        "## Sobre os dados\n",
        "\n",
        "O arquivo CSV contém eventos 'click' ou 'view' no tempo, de usuários em anúncios de determinadas campanhas.\n",
        "\n",
        "**Descrição das colunas:**  \n",
        "timestamp,user_id,action,adId,campaignId\n",
        "\n",
        "**Amostra:**  \n",
        "2016-09-21 22:11:00,7c74953c-66cc-48bd-9d02-a02bf039cf3f,click,adId_09,campaignId_01  \n",
        "2016-06-25 18:29:00,676a083e-2f8e-4ff2-9ec2-270f7f9d6033,view,adId_09,campaignId_02  \n",
        "2016-02-14 19:03:00,77158997-0dfa-48b7-9149-973dc151ef8d,click,adId_02,campaignId_02  \n",
        "2016-03-26 06:27:00,78aa2467-b502-413b-94e9-04ec8210bd13,click,adId_07,campaignId_03\n",
        "\n",
        "**Nome do arquivo CSV:**  \n",
        "data/ad_action.csv\n",
        "\n",
        "## Sobre as questões\n",
        "\n",
        "As questões devem ser respondidas usando alguma API da tecnologia Spark, exceto a API \"Pandas API on Spark\".\n",
        "\n",
        "Quando utilizar uma action do Spark tenha cuidado para evitar estouro de memória, sempre imaginado que vai executar o código com uma grande massa de dados.\n",
        "\n",
        "Mesmo que não consiga terminar alguma questão, favor enviar, porque parte do código pode valer alguma pontuação."
      ]
    },
    {
      "cell_type": "code",
      "execution_count": null,
      "metadata": {
        "id": "EcjBEz3DzwLK"
      },
      "outputs": [],
      "source": [
        "import os\n",
        "import pyspark.sql.functions as F\n",
        "import pyspark.sql.types as T\n",
        "\n",
        "from pyspark.sql import SparkSession\n",
        "\n",
        "os.environ['PYSPARK_SUBMIT_ARGS'] = '\\\n",
        "    --driver-memory 2G \\\n",
        "    --executor-memory 2G \\\n",
        "    pyspark-shell'"
      ]
    },
    {
      "cell_type": "code",
      "execution_count": null,
      "metadata": {
        "colab": {
          "base_uri": "https://localhost:8080/"
        },
        "id": "lmpgh_4tzwLM",
        "outputId": "642baed7-70c7-4c1e-baa1-84e9f98c848a"
      },
      "outputs": [
        {
          "output_type": "stream",
          "name": "stdout",
          "text": [
            "root\n",
            " |-- timestamp: timestamp (nullable = true)\n",
            " |-- user_id: string (nullable = true)\n",
            " |-- action: string (nullable = true)\n",
            " |-- adId: string (nullable = true)\n",
            " |-- campaignId: string (nullable = true)\n",
            "\n"
          ]
        }
      ],
      "source": [
        "spark = SparkSession.builder\\\n",
        "    .master(\"local[*]\")\\\n",
        "    .getOrCreate()\n",
        "data_spark = spark.read.csv('drive/MyDrive/data/ad_action.csv', header=False, inferSchema=True)\\\n",
        "    .toDF('timestamp', 'user_id', 'action', 'adId', 'campaignId')\n",
        "data_spark.printSchema()"
      ]
    },
    {
      "cell_type": "code",
      "execution_count": null,
      "metadata": {
        "colab": {
          "base_uri": "https://localhost:8080/"
        },
        "id": "eLqiReZRzwLM",
        "outputId": "8999b933-040d-46a2-91a0-5c29eb8ffad2"
      },
      "outputs": [
        {
          "output_type": "stream",
          "name": "stdout",
          "text": [
            "+-------------------+--------------------+------+-------+-------------+\n",
            "|          timestamp|             user_id|action|   adId|   campaignId|\n",
            "+-------------------+--------------------+------+-------+-------------+\n",
            "|2016-09-21 22:11:00|7c74953c-66cc-48b...| click|adId_09|campaignId_01|\n",
            "|2016-06-25 18:29:00|676a083e-2f8e-4ff...|  view|adId_09|campaignId_02|\n",
            "|2016-02-14 19:03:00|77158997-0dfa-48b...| click|adId_02|campaignId_02|\n",
            "|2016-03-26 06:27:00|78aa2467-b502-413...| click|adId_07|campaignId_03|\n",
            "|2016-01-02 04:57:00|fef9a98c-d73e-48e...|  view|adId_02|campaignId_02|\n",
            "+-------------------+--------------------+------+-------+-------------+\n",
            "only showing top 5 rows\n",
            "\n"
          ]
        }
      ],
      "source": [
        "data_spark.show(5)"
      ]
    },
    {
      "cell_type": "code",
      "execution_count": null,
      "metadata": {
        "id": "9GrlpcQUzwLM"
      },
      "outputs": [],
      "source": [
        "# Descomente para desligar clusters\n",
        "\n",
        "# spark.stop()"
      ]
    },
    {
      "cell_type": "markdown",
      "metadata": {
        "id": "CA2RGbCkzwLN"
      },
      "source": [
        "## 1) Quais são as top 3 campanhas que geraram mais eventos? Ordene pela quantidade de eventos (2,5 pontos)"
      ]
    },
    {
      "cell_type": "code",
      "source": [
        "data_spark.groupby('campaignId')\\\n",
        "  .count()\\\n",
        "  .orderBy(F.desc('count'))\\\n",
        "  .take(3)"
      ],
      "metadata": {
        "colab": {
          "base_uri": "https://localhost:8080/"
        },
        "id": "lb3nCi85Pdge",
        "outputId": "102ba3d3-e40f-4e7a-da4f-b78b34d7fbbf"
      },
      "execution_count": null,
      "outputs": [
        {
          "output_type": "execute_result",
          "data": {
            "text/plain": [
              "[Row(campaignId='campaignId_02', count=91216),\n",
              " Row(campaignId='campaignId_03', count=87036),\n",
              " Row(campaignId='campaignId_01', count=76461)]"
            ]
          },
          "metadata": {},
          "execution_count": 7
        }
      ]
    },
    {
      "cell_type": "markdown",
      "source": [
        "**Resposta:**\n",
        "\n",
        "As top 3 campanhas que geraram mais eventos foram as campanhas de ID 02, 03 e 01, como exposto acima.\n",
        "\n"
      ],
      "metadata": {
        "id": "JPLKK8YAkTeN"
      }
    },
    {
      "cell_type": "markdown",
      "metadata": {
        "id": "Q6EdfAT5zwLN"
      },
      "source": [
        "## 2) Qual campanha teve mais clicks? (2,5 pontos)"
      ]
    },
    {
      "cell_type": "code",
      "source": [
        "# Contar os cliques por campanha\n",
        "df_clicks = data_spark.filter(data_spark['action'] == 'click') \\\n",
        "              .groupBy('campaignId') \\\n",
        "              .agg(F.count('action').alias('click_count')) \\\n",
        "              .orderBy(F.desc('click_count'))\n",
        "\n",
        "# Mostrar o resultado com a campanha com mais cliques no topo\n",
        "df_clicks.show(1)  # Mostrar apenas a campanha com mais cliques"
      ],
      "metadata": {
        "colab": {
          "base_uri": "https://localhost:8080/"
        },
        "id": "gMszp6zsV5ZT",
        "outputId": "708be0c8-6a54-4f29-8f0e-d0aed2f71d11"
      },
      "execution_count": null,
      "outputs": [
        {
          "output_type": "stream",
          "name": "stdout",
          "text": [
            "+-------------+-----------+\n",
            "|   campaignId|click_count|\n",
            "+-------------+-----------+\n",
            "|campaignId_02|      63983|\n",
            "+-------------+-----------+\n",
            "only showing top 1 row\n",
            "\n"
          ]
        }
      ]
    },
    {
      "cell_type": "markdown",
      "source": [
        "**Resposta:**\n",
        "\n",
        "A campanha com mais clicks foi a campanha de ID 02, com 63.983 cliques."
      ],
      "metadata": {
        "id": "8kC74G9wl6AN"
      }
    },
    {
      "cell_type": "markdown",
      "metadata": {
        "id": "wKq5FGX4zwLN"
      },
      "source": [
        "## 3) Qual mês teve o maior total de eventos acumulado? (2,5 pontos)"
      ]
    },
    {
      "cell_type": "code",
      "execution_count": null,
      "metadata": {
        "id": "0DChwUW8zwLO",
        "colab": {
          "base_uri": "https://localhost:8080/"
        },
        "outputId": "1aed87d3-2df2-4fb4-f459-8fc2699ecc8e"
      },
      "outputs": [
        {
          "output_type": "stream",
          "name": "stdout",
          "text": [
            "+-----+-----------+\n",
            "|month|event_count|\n",
            "+-----+-----------+\n",
            "|    1|      25800|\n",
            "+-----+-----------+\n",
            "only showing top 1 row\n",
            "\n"
          ]
        }
      ],
      "source": [
        "result = data_spark.withColumn('month', F.month('timestamp'))\\\n",
        "   .groupBy('month').agg(F.count('*').alias('event_count')) \\\n",
        "  .orderBy(F.desc('event_count'))\n",
        "\n",
        "# Mostrar o resultado com o mês com mais eventos\n",
        "result.show(1)  # Mostrar apenas o mês com mais eventos\n"
      ]
    },
    {
      "cell_type": "markdown",
      "source": [
        "**Resposta:**\n",
        "\n",
        "O mês que teve o maior total de eventos acumulados foi janeiro (mês 01), com 25.800 eventos."
      ],
      "metadata": {
        "id": "0oY-SbefmJqf"
      }
    },
    {
      "cell_type": "markdown",
      "metadata": {
        "id": "AT-Lv9enzwLO"
      },
      "source": [
        "## 4) Nas situações onde existe um evento de view seguido de um evento de click criados pelo mesmo usuário no mesmo anúncio e campanha, quais são os 5 pares de anúncio e campanha com menores médias de tempo entre os dois eventos (2,5 pontos)"
      ]
    },
    {
      "cell_type": "code",
      "source": [
        "view_events = data_spark.filter(data_spark['action'] == 'view')\n",
        "view_events = view_events.withColumnRenamed(\"timestamp\", \"view_timestamp\")"
      ],
      "metadata": {
        "id": "nwR7bYoHJm8e"
      },
      "execution_count": null,
      "outputs": []
    },
    {
      "cell_type": "code",
      "source": [
        "click_events = data_spark.filter(data_spark['action'] == 'click')\n",
        "click_events = click_events.withColumnRenamed(\"timestamp\", \"click_timestamp\")"
      ],
      "metadata": {
        "id": "NYzzBhGwJp5f"
      },
      "execution_count": null,
      "outputs": []
    },
    {
      "cell_type": "code",
      "source": [
        "join_condition = (view_events['user_id'] == click_events['user_id']) & \\\n",
        "                 (view_events['adId'] == click_events['adId']) & \\\n",
        "                 (view_events['campaignId'] == click_events['campaignId']) & \\\n",
        "                 (view_events['view_timestamp'] < click_events['click_timestamp'])\n",
        "\n",
        "joined_df = view_events.join(click_events, join_condition, 'inner') \\\n",
        "    .select(view_events['user_id'], view_events['adId'], view_events['campaignId'],\n",
        "            view_events['view_timestamp'], click_events['click_timestamp'])"
      ],
      "metadata": {
        "id": "0qcqFzegJtJ6"
      },
      "execution_count": null,
      "outputs": []
    },
    {
      "cell_type": "code",
      "source": [
        "joined_df = joined_df.withColumn('time_diff',\n",
        "                                 (F.unix_timestamp('click_timestamp') - F.unix_timestamp('view_timestamp')))"
      ],
      "metadata": {
        "id": "vy0Z0A_RJ5Wz"
      },
      "execution_count": null,
      "outputs": []
    },
    {
      "cell_type": "code",
      "source": [
        "avg_time_diff_df = joined_df.groupBy('adId', 'campaignId').avg('time_diff')"
      ],
      "metadata": {
        "id": "DZTn-yL6J85w"
      },
      "execution_count": null,
      "outputs": []
    },
    {
      "cell_type": "code",
      "source": [
        "top_5_pairs = avg_time_diff_df.orderBy('avg(time_diff)').limit(5)\n",
        "top_5_pairs.show()"
      ],
      "metadata": {
        "colab": {
          "base_uri": "https://localhost:8080/"
        },
        "id": "ect4gzF5HXTW",
        "outputId": "698af7e2-65ff-4b31-824f-302e616f3d42"
      },
      "execution_count": null,
      "outputs": [
        {
          "output_type": "stream",
          "name": "stdout",
          "text": [
            "+-------+-------------+--------------------+\n",
            "|   adId|   campaignId|      avg(time_diff)|\n",
            "+-------+-------------+--------------------+\n",
            "|adId_07|campaignId_01|1.0078583937431393E7|\n",
            "|adId_02|campaignId_01|1.0154171090081457E7|\n",
            "|adId_09|campaignId_01| 1.020334868419649E7|\n",
            "|adId_02|campaignId_03| 1.021572514987986E7|\n",
            "|adId_02|campaignId_02|1.0226988156816851E7|\n",
            "+-------+-------------+--------------------+\n",
            "\n"
          ]
        }
      ]
    },
    {
      "cell_type": "markdown",
      "source": [
        "**Resposta:**\n",
        "\n",
        "\n",
        "Os 5 pares de anúncio e campanha com menores médias de tempo entre os dois eventos são:\n",
        "\n",
        "\n",
        "1.   adId_07 e campaignId_01\n",
        "2.   adId_02 e campaignId_01\n",
        "3. adId_09 e campaignId_01\n",
        "4. adId_02 e campaignId_03\n",
        "5. adId_02 e campaignId_02"
      ],
      "metadata": {
        "id": "_-HY0C4azHL4"
      }
    }
  ],
  "metadata": {
    "colab": {
      "provenance": []
    },
    "kernelspec": {
      "display_name": "Python 3 (ipykernel)",
      "language": "python",
      "name": "python3"
    },
    "language_info": {
      "codemirror_mode": {
        "name": "ipython",
        "version": 3
      },
      "file_extension": ".py",
      "mimetype": "text/x-python",
      "name": "python",
      "nbconvert_exporter": "python",
      "pygments_lexer": "ipython3",
      "version": "3.10.6"
    }
  },
  "nbformat": 4,
  "nbformat_minor": 0
}