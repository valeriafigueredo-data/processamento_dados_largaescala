{
  "cells": [
    {
      "cell_type": "markdown",
      "source": [
        "**Terceiro Trabalho da disciplina Processamento de Dados em Larga Escala**\n",
        "\n",
        "**Discentes:**\n",
        "\n",
        "*   **Valéria Cristina A. R. de Figueredo -- vcarf@cesar.school**\n",
        "*   **Manuela de Lacerda Bezerra Carvalho -- mlbc@cesar.school**\n",
        "\n",
        "\n",
        "**Docente: Anderson Neves**"
      ],
      "metadata": {
        "id": "B-s8zyy1vlOi"
      }
    },
    {
      "cell_type": "code",
      "execution_count": null,
      "metadata": {
        "colab": {
          "base_uri": "https://localhost:8080/"
        },
        "id": "mNi_m6d5YOWu",
        "outputId": "1798f5c4-4926-436c-ec12-8faf42a77eee"
      },
      "outputs": [
        {
          "output_type": "stream",
          "name": "stdout",
          "text": [
            "Mounted at /content/drive\n"
          ]
        }
      ],
      "source": [
        "from google.colab import drive\n",
        "drive.mount('/content/drive')"
      ]
    },
    {
      "cell_type": "code",
      "execution_count": null,
      "metadata": {
        "colab": {
          "base_uri": "https://localhost:8080/"
        },
        "id": "GfRy81cwYYiH",
        "outputId": "aad94c3f-4c3e-4d33-c743-6a1f9b6240e7"
      },
      "outputs": [
        {
          "output_type": "stream",
          "name": "stdout",
          "text": [
            "Requirement already satisfied: pyspark in /usr/local/lib/python3.11/dist-packages (3.5.5)\n",
            "Requirement already satisfied: py4j==0.10.9.7 in /usr/local/lib/python3.11/dist-packages (from pyspark) (0.10.9.7)\n"
          ]
        }
      ],
      "source": [
        "!pip install --upgrade pyspark"
      ]
    },
    {
      "cell_type": "markdown",
      "metadata": {
        "id": "DJ8HUYW3YJbE"
      },
      "source": [
        "## Sobre os dados\n",
        "\n",
        "O arquivo CSV contém eventos 'click' ou 'view' no tempo, de usuários em anúncios de determinadas campanhas.\n",
        "\n",
        "**Descrição das colunas:**  \n",
        "timestamp,user_id,action,adId,campaignId\n",
        "\n",
        "**Amostra:**  \n",
        "2016-09-21 22:11:00,7c74953c-66cc-48bd-9d02-a02bf039cf3f,click,adId_09,campaignId_01  \n",
        "2016-06-25 18:29:00,676a083e-2f8e-4ff2-9ec2-270f7f9d6033,view,adId_09,campaignId_02  \n",
        "2016-02-14 19:03:00,77158997-0dfa-48b7-9149-973dc151ef8d,click,adId_02,campaignId_02  \n",
        "2016-03-26 06:27:00,78aa2467-b502-413b-94e9-04ec8210bd13,click,adId_07,campaignId_03\n",
        "\n",
        "**Nome da pasta com os arquivos CSV:**  \n",
        "data/ad_action_assignment\n",
        "\n",
        "## Sobre as questões\n",
        "\n",
        "Usar código de Structured Streaming na resposta.\n",
        "\n",
        "Favor não alterar o código que gera o inputStream para manter o mesmo padrão na resposta.\n",
        "\n",
        "Mesmo que não consiga terminar alguma questão, favor enviar, porque parte do código pode valer alguma pontuação.\n",
        "## ----------------------"
      ]
    },
    {
      "cell_type": "code",
      "execution_count": null,
      "metadata": {
        "id": "gdJY9d9tYJbG"
      },
      "outputs": [],
      "source": [
        "import pyspark.sql.functions as F\n",
        "from pyspark.sql import SparkSession\n",
        "from pyspark.sql.window import Window\n",
        "from pyspark.sql.streaming import DataStreamReader\n",
        "from pyspark import StorageLevel\n"
      ]
    },
    {
      "cell_type": "code",
      "execution_count": null,
      "metadata": {
        "colab": {
          "base_uri": "https://localhost:8080/",
          "height": 221
        },
        "id": "OTieGO7wYJbG",
        "outputId": "0a6b268f-58fd-419c-96dd-e07de9dfefe1"
      },
      "outputs": [
        {
          "output_type": "execute_result",
          "data": {
            "text/plain": [
              "<pyspark.sql.session.SparkSession at 0x7a90b6f54910>"
            ],
            "text/html": [
              "\n",
              "            <div>\n",
              "                <p><b>SparkSession - in-memory</b></p>\n",
              "                \n",
              "        <div>\n",
              "            <p><b>SparkContext</b></p>\n",
              "\n",
              "            <p><a href=\"http://f3b0bae6997a:4040\">Spark UI</a></p>\n",
              "\n",
              "            <dl>\n",
              "              <dt>Version</dt>\n",
              "                <dd><code>v3.5.5</code></dd>\n",
              "              <dt>Master</dt>\n",
              "                <dd><code>local-cluster[2, 1, 3072]</code></dd>\n",
              "              <dt>AppName</dt>\n",
              "                <dd><code>pyspark-shell</code></dd>\n",
              "            </dl>\n",
              "        </div>\n",
              "        \n",
              "            </div>\n",
              "        "
            ]
          },
          "metadata": {},
          "execution_count": 4
        }
      ],
      "source": [
        "# Criando um cluster local com 2 workers, 1 cores por worker e 3GB de RAM por worker\n",
        "\n",
        "spark = SparkSession.builder\\\n",
        "    .master('local-cluster[2, 1, 3072]')\\\n",
        "    .getOrCreate()\n",
        "spark"
      ]
    },
    {
      "cell_type": "code",
      "execution_count": null,
      "metadata": {
        "id": "BsAbJtKPamsz"
      },
      "outputs": [],
      "source": [
        "AD_ACTION_CSV_PATH = \"drive/MyDrive/data/ad_action_assignment\""
      ]
    },
    {
      "cell_type": "code",
      "execution_count": null,
      "metadata": {
        "id": "9V6jkTaOYJbH"
      },
      "outputs": [],
      "source": [
        "# Descomente e execute para parar o SparkSession\n",
        "# spark.stop()"
      ]
    },
    {
      "cell_type": "markdown",
      "metadata": {
        "id": "-HopxD1OYJbH"
      },
      "source": [
        "## Foi utilizado o notebook `assignment_split_ad_action_data.ipynb` para criar os dados do streaming escrevendo arquivos CSV na pasta `data/ad_action_assignment`"
      ]
    },
    {
      "cell_type": "markdown",
      "metadata": {
        "id": "IlTPOXqsYJbI"
      },
      "source": [
        "## 1) Quantos eventos as campanhas geraram nos últimos 10 segundos? Ordene crescente pelo window.start, descrescente pela quantidade de eventos e calcule a cada 3 segundos. (4 pontos)"
      ]
    },
    {
      "cell_type": "code",
      "source": [
        "inputStream = spark.readStream.csv(\n",
        "    AD_ACTION_CSV_PATH,\n",
        "    schema=\"timestamp TIMESTAMP, \\\n",
        "        user_id STRING, \\\n",
        "        action STRING, \\\n",
        "        adId STRING, \\\n",
        "        campaignId STRING\"\n",
        ")\n",
        "\n",
        "# ESCREVA SEU CÓDIGO AQUI\n",
        "inputStream = inputStream.groupBy(\n",
        "      F.window(\"timestamp\", \"10 seconds\", \"3 seconds\"),\n",
        "      \"campaignId\"\n",
        "    ).count()\n",
        "\n",
        "def foreach_batch_function(df, epoch_id):\n",
        "    window_group = Window.partitionBy('window.start')\\\n",
        "        .orderBy(F.desc('count'))\n",
        "    df = df.orderBy(F.asc('window.start'), F.desc('count'))\n",
        "    print(epoch_id)\n",
        "    print(df.toPandas())\n",
        "\n",
        "query = inputStream\\\n",
        "    .writeStream\\\n",
        "    .outputMode('complete')\\\n",
        "    .foreachBatch(foreach_batch_function)\\\n",
        "    .start()\n",
        "query.awaitTermination(60)"
      ],
      "metadata": {
        "colab": {
          "base_uri": "https://localhost:8080/"
        },
        "id": "ul873ZVIu85B",
        "outputId": "cc448d4f-6883-46a4-ea8c-3b8dd6ab99c1"
      },
      "execution_count": null,
      "outputs": [
        {
          "output_type": "stream",
          "name": "stdout",
          "text": [
            "0\n",
            "                                        window     campaignId  count\n",
            "0   (2023-09-01 03:30:51, 2023-09-01 03:31:01)  campaignId_02   1428\n",
            "1   (2023-09-01 03:30:51, 2023-09-01 03:31:01)  campaignId_03   1418\n",
            "2   (2023-09-01 03:30:51, 2023-09-01 03:31:01)  campaignId_01   1400\n",
            "3   (2023-09-01 03:30:54, 2023-09-01 03:31:04)  campaignId_03   5923\n",
            "4   (2023-09-01 03:30:54, 2023-09-01 03:31:04)  campaignId_02   5786\n",
            "..                                         ...            ...    ...\n",
            "67  (2023-09-01 03:31:57, 2023-09-01 03:32:07)  campaignId_03   5884\n",
            "68  (2023-09-01 03:31:57, 2023-09-01 03:32:07)  campaignId_01   4918\n",
            "69  (2023-09-01 03:32:00, 2023-09-01 03:32:10)  campaignId_03   1561\n",
            "70  (2023-09-01 03:32:00, 2023-09-01 03:32:10)  campaignId_02   1525\n",
            "71  (2023-09-01 03:32:00, 2023-09-01 03:32:10)  campaignId_01   1159\n",
            "\n",
            "[72 rows x 3 columns]\n"
          ]
        },
        {
          "output_type": "execute_result",
          "data": {
            "text/plain": [
              "False"
            ]
          },
          "metadata": {},
          "execution_count": 21
        }
      ]
    },
    {
      "cell_type": "code",
      "execution_count": null,
      "metadata": {
        "id": "vms0ZC5jYJbI"
      },
      "outputs": [],
      "source": [
        "# Stop job\n",
        "query.stop()"
      ]
    },
    {
      "cell_type": "markdown",
      "metadata": {
        "id": "wRNTxL3jYJbI"
      },
      "source": [
        "## 2) Quais são os 5 pares de anúncio e campanha que geraram menos clicks no último minuto? Ordene crescente pelo window.start, crescente pela quantidade de clicks e calcule a cada 30 segundos. (3 pontos)"
      ]
    },
    {
      "cell_type": "code",
      "execution_count": null,
      "metadata": {
        "id": "7opApZjOYJbI",
        "colab": {
          "base_uri": "https://localhost:8080/"
        },
        "outputId": "c276533f-d074-4914-dc3e-40aed0a86d15"
      },
      "outputs": [
        {
          "output_type": "stream",
          "name": "stdout",
          "text": [
            "0\n",
            "                                        window     campaignId     adId  count\n",
            "0   (2023-09-01 03:30:30, 2023-09-01 03:31:30)  campaignId_03  adId_03   2433\n",
            "1   (2023-09-01 03:30:30, 2023-09-01 03:31:30)  campaignId_01  adId_10   2460\n",
            "2   (2023-09-01 03:30:30, 2023-09-01 03:31:30)  campaignId_01  adId_04   2462\n",
            "3   (2023-09-01 03:30:30, 2023-09-01 03:31:30)  campaignId_01  adId_02   2505\n",
            "4   (2023-09-01 03:30:30, 2023-09-01 03:31:30)  campaignId_01  adId_07   2518\n",
            "5   (2023-09-01 03:31:00, 2023-09-01 03:32:00)  campaignId_01  adId_04   4950\n",
            "6   (2023-09-01 03:31:00, 2023-09-01 03:32:00)  campaignId_01  adId_02   4995\n",
            "7   (2023-09-01 03:31:00, 2023-09-01 03:32:00)  campaignId_01  adId_10   5010\n",
            "8   (2023-09-01 03:31:00, 2023-09-01 03:32:00)  campaignId_01  adId_01   5076\n",
            "9   (2023-09-01 03:31:00, 2023-09-01 03:32:00)  campaignId_03  adId_03   5109\n",
            "10  (2023-09-01 03:31:30, 2023-09-01 03:32:30)  campaignId_01  adId_04   2563\n",
            "11  (2023-09-01 03:31:30, 2023-09-01 03:32:30)  campaignId_01  adId_02   2568\n",
            "12  (2023-09-01 03:31:30, 2023-09-01 03:32:30)  campaignId_01  adId_01   2622\n",
            "13  (2023-09-01 03:31:30, 2023-09-01 03:32:30)  campaignId_01  adId_10   2624\n",
            "14  (2023-09-01 03:31:30, 2023-09-01 03:32:30)  campaignId_01  adId_06   2757\n",
            "15  (2023-09-01 03:32:00, 2023-09-01 03:33:00)  campaignId_01  adId_07     72\n",
            "16  (2023-09-01 03:32:00, 2023-09-01 03:33:00)  campaignId_01  adId_10     74\n",
            "17  (2023-09-01 03:32:00, 2023-09-01 03:33:00)  campaignId_03  adId_08     74\n",
            "18  (2023-09-01 03:32:00, 2023-09-01 03:33:00)  campaignId_01  adId_04     75\n",
            "19  (2023-09-01 03:32:00, 2023-09-01 03:33:00)  campaignId_01  adId_02     78\n"
          ]
        },
        {
          "output_type": "execute_result",
          "data": {
            "text/plain": [
              "False"
            ]
          },
          "metadata": {},
          "execution_count": 12
        }
      ],
      "source": [
        "inputStream = spark.readStream.csv(\n",
        "    AD_ACTION_CSV_PATH,\n",
        "    schema=\"timestamp TIMESTAMP, \\\n",
        "        user_id STRING, \\\n",
        "        action STRING, \\\n",
        "        adId STRING, \\\n",
        "        campaignId STRING\"\n",
        ")\n",
        "\n",
        "# ESCREVA SEU CÓDIGO AQUI\n",
        "inputStream = inputStream.where(F.col('action') == \"click\")\\\n",
        "    .groupBy(\n",
        "      F.window(\"timestamp\", \"60 seconds\", \"30 seconds\"),\n",
        "      \"campaignId\", \"adId\"\n",
        "    ).count()\n",
        "\n",
        "def foreach_batch_function(df, epoch_id):\n",
        "    window = Window.partitionBy('window.start')\\\n",
        "        .orderBy(F.asc('count'))\n",
        "    df = df.withColumn('rank', F.row_number().over(window))\\\n",
        "        .where(F.col('rank') <= 5)\\\n",
        "        .drop('rank')\\\n",
        "        .orderBy(F.asc('window.start'), F.asc('count'))\n",
        "    print(epoch_id)\n",
        "    print(df.toPandas())\n",
        "\n",
        "query = inputStream\\\n",
        "    .writeStream\\\n",
        "    .outputMode('complete')\\\n",
        "    .foreachBatch(foreach_batch_function)\\\n",
        "    .start()\n",
        "query.awaitTermination(50)\n"
      ]
    },
    {
      "cell_type": "code",
      "execution_count": null,
      "metadata": {
        "id": "oS9vVdSoYJbJ"
      },
      "outputs": [],
      "source": [
        "# Stop job\n",
        "query.stop()"
      ]
    },
    {
      "cell_type": "markdown",
      "metadata": {
        "id": "IH0874NWYJbJ"
      },
      "source": [
        "## 3) Qual é o total acumulado de clicks e o total acumulado de views? Calcule a medida que os dados são recebidos no streaming (3 pontos)"
      ]
    },
    {
      "cell_type": "code",
      "source": [
        "inputStream = spark.readStream.csv(\n",
        "    AD_ACTION_CSV_PATH,\n",
        "    schema=\"timestamp TIMESTAMP, \\\n",
        "        user_id STRING, \\\n",
        "        action STRING, \\\n",
        "        adId STRING, \\\n",
        "        campaignId STRING\"\n",
        ")\n",
        "\n",
        "# ESCREVA SEU CÓDIGO AQUI\n",
        "inputStream = inputStream.groupBy(\n",
        "      F.window(\"timestamp\", \"10 seconds\", \"10 seconds\"),\n",
        "      \"action\"\n",
        "    ).count()\n",
        "\n",
        "def foreach_batch_function(df, epoch_id):\n",
        "    df_pandas = df.toPandas()\n",
        "    # Para cada tipo de ação (click, view), mostre o total acumulado\n",
        "    total_clicks = df_pandas[df_pandas['action'] == 'click']['count'].sum()\n",
        "    total_views = df_pandas[df_pandas['action'] == 'view']['count'].sum()\n",
        "\n",
        "    print(df_pandas)\n",
        "    print(f\"Total acumulado de clicks: {total_clicks}\")\n",
        "    print(f\"Total acumulado de views: {total_views}\")\n",
        "\n",
        "query = inputStream\\\n",
        "    .writeStream\\\n",
        "    .outputMode('complete')\\\n",
        "    .foreachBatch(foreach_batch_function)\\\n",
        "    .start()\n",
        "query.awaitTermination(35)"
      ],
      "metadata": {
        "colab": {
          "base_uri": "https://localhost:8080/"
        },
        "id": "aU-LBrUp4NOA",
        "outputId": "64bf4e95-820b-4eed-c0f1-8aa84de49e33"
      },
      "execution_count": null,
      "outputs": [
        {
          "output_type": "stream",
          "name": "stdout",
          "text": [
            "                                        window action  count\n",
            "0   (2023-09-01 03:31:00, 2023-09-01 03:31:10)   view  12807\n",
            "1   (2023-09-01 03:31:50, 2023-09-01 03:32:00)  click  29712\n",
            "2   (2023-09-01 03:32:00, 2023-09-01 03:32:10)  click   3001\n",
            "3   (2023-09-01 03:31:40, 2023-09-01 03:31:50)  click  29597\n",
            "4   (2023-09-01 03:31:00, 2023-09-01 03:31:10)  click  29653\n",
            "5   (2023-09-01 03:31:30, 2023-09-01 03:31:40)  click  29897\n",
            "6   (2023-09-01 03:31:10, 2023-09-01 03:31:20)   view  12715\n",
            "7   (2023-09-01 03:31:10, 2023-09-01 03:31:20)  click  29738\n",
            "8   (2023-09-01 03:31:20, 2023-09-01 03:31:30)  click  26707\n",
            "9   (2023-09-01 03:31:40, 2023-09-01 03:31:50)   view  12853\n",
            "10  (2023-09-01 03:31:30, 2023-09-01 03:31:40)   view  12553\n",
            "11  (2023-09-01 03:31:20, 2023-09-01 03:31:30)   view  11498\n",
            "12  (2023-09-01 03:31:50, 2023-09-01 03:32:00)   view  12738\n",
            "13  (2023-09-01 03:32:00, 2023-09-01 03:32:10)   view   1244\n",
            "Total acumulado de clicks: 178305\n",
            "Total acumulado de views: 76408\n"
          ]
        },
        {
          "output_type": "execute_result",
          "data": {
            "text/plain": [
              "False"
            ]
          },
          "metadata": {},
          "execution_count": 37
        }
      ]
    },
    {
      "cell_type": "code",
      "execution_count": null,
      "metadata": {
        "id": "MkRb_ZY1YJbJ"
      },
      "outputs": [],
      "source": [
        "# Stop job\n",
        "query.stop()"
      ]
    },
    {
      "cell_type": "markdown",
      "metadata": {
        "id": "48h6UINHYJbJ"
      },
      "source": [
        "## 4) Qual é a porcentagem de usuários que visualizaram e clicaram em um mesmo anúncio e campanha pelo menos uma vez nos últimos 10 segundos? Calcule a cada 10 segundos. (1 ponto extra na nota final)\n",
        "\n",
        "Exemplo:\n",
        "20% de 5 usuários clicaram e visualizaram em um mesmo anúncio e campanha pelo menos uma vez. Nesse caso, dos 5 usuários, 1 tem eventos de click e view em pelo menos 1 par de anúncio e campanha. Enquanto que, 4 usuários não apresentam esse padrão. Lembrando que cada intervalo de 10 segundos do janelamento vai ter um valor percentual associado.\n",
        "\n",
        "```\n",
        "user_id   adId\t  campaignId\t  action\n",
        "U1\t\tA1\t\tC1 \t \t\tclick\n",
        "U1\t\tA1\t\tC1 \t \t\tview\n",
        "U1\t\tA2\t\tC1 \t \t\tclick\n",
        "U1\t\tA2\t\tC1 \t \t\tview\n",
        "U2\t\tA1\t\tC1 \t \t\tview\n",
        "U2\t\tA2\t\tC1 \t \t\tclick\n",
        "U3\t\tA1\t\tC1 \t \t\tview\n",
        "U4\t\tA2\t\tC1 \t \t\tclick\n",
        "U5\t\tA1\t\tC1 \t \t\tclick\n",
        "```"
      ]
    },
    {
      "cell_type": "code",
      "source": [
        "# Leitura do fluxo de dados\n",
        "inputStream = spark.readStream.csv(\n",
        "    AD_ACTION_CSV_PATH,\n",
        "    schema=\"\"\"timestamp TIMESTAMP,\n",
        "              user_id STRING,\n",
        "              action STRING,\n",
        "              adId STRING,\n",
        "              campaignId STRING\"\"\"\n",
        ")\n",
        "\n",
        "# Agrupando por janela de 10 segundos (para os cálculos de visualização e clique)\n",
        "inputStream = inputStream.groupBy(\n",
        "    F.window('timestamp', '10 seconds'),  # Agrupando por uma janela de 10 segundos\n",
        "    'user_id', 'adId', 'campaignId', 'action'\n",
        ").count()\n",
        "\n",
        "# Função que será chamada a cada \"batch\" de dados\n",
        "def foreach_batch_function(df, epoch_id):\n",
        "    # Separando as visualizações e cliques\n",
        "    views_df = df.filter(F.col('action') == 'view')  # Filtrando apenas visualizações\n",
        "    clicks_df = df.filter(F.col('action') == 'click')  # Filtrando apenas cliques\n",
        "\n",
        "    # Identificando usuários que visualizaram e clicaram no mesmo anúncio/campanha\n",
        "    views_and_clicks_df = views_df.join(clicks_df,\n",
        "        on=['user_id', 'adId', 'campaignId', 'window'], how='inner')\n",
        "\n",
        "    # Calculando o número total de usuários que realizaram qualquer ação (visualização ou clique)\n",
        "    total_users_df = df.groupBy('window', 'adId', 'campaignId').agg(\n",
        "        F.countDistinct('user_id').alias('total_users')\n",
        "    )\n",
        "\n",
        "    # Calculando o número de usuários que fizeram ambas as ações (visualização e clique)\n",
        "    users_with_both_actions_df = views_and_clicks_df.groupBy('window', 'adId', 'campaignId').agg(\n",
        "        F.countDistinct('user_id').alias('users_with_both_actions')\n",
        "    )\n",
        "\n",
        "    # Juntando os dois DataFrames para calcular a porcentagem\n",
        "    result_df = total_users_df.join(users_with_both_actions_df,\n",
        "                                     on=['window', 'adId', 'campaignId'], how='left')\n",
        "\n",
        "    # Calculando a porcentagem de usuários que fizeram ambas as ações\n",
        "    result_df = result_df.withColumn(\n",
        "        'percentage',\n",
        "        F.coalesce(F.col('users_with_both_actions') / F.col('total_users') * 100, F.lit(0))\n",
        "    ).select('window', 'adId', 'campaignId', F.round('percentage', 2).alias('percentage'))\n",
        "\n",
        "    # Exibindo os resultados no console\n",
        "    print(f\"Epoch {epoch_id}:\")\n",
        "    print(result_df.toPandas())\n",
        "\n",
        "# Consulta de streaming\n",
        "query = inputStream \\\n",
        "    .writeStream \\\n",
        "    .outputMode('complete') \\\n",
        "    .foreachBatch(foreach_batch_function) \\\n",
        "    .start()\n",
        "\n",
        "query.awaitTermination(180)\n"
      ],
      "metadata": {
        "colab": {
          "base_uri": "https://localhost:8080/"
        },
        "id": "pbVo8YliT2nw",
        "outputId": "5a124e25-e4ad-4e5e-8bba-c5cbc82ff80a"
      },
      "execution_count": null,
      "outputs": [
        {
          "output_type": "stream",
          "name": "stdout",
          "text": [
            "Epoch 0:\n",
            "                                         window     adId     campaignId  \\\n",
            "0    (2023-09-01 03:32:00, 2023-09-01 03:32:10)  adId_04  campaignId_01   \n",
            "1    (2023-09-01 03:31:10, 2023-09-01 03:31:20)  adId_04  campaignId_02   \n",
            "2    (2023-09-01 03:31:10, 2023-09-01 03:31:20)  adId_10  campaignId_01   \n",
            "3    (2023-09-01 03:31:40, 2023-09-01 03:31:50)  adId_07  campaignId_02   \n",
            "4    (2023-09-01 03:31:50, 2023-09-01 03:32:00)  adId_08  campaignId_03   \n",
            "..                                          ...      ...            ...   \n",
            "198  (2023-09-01 03:31:50, 2023-09-01 03:32:00)  adId_04  campaignId_01   \n",
            "199  (2023-09-01 03:32:00, 2023-09-01 03:32:10)  adId_08  campaignId_03   \n",
            "200  (2023-09-01 03:31:10, 2023-09-01 03:31:20)  adId_09  campaignId_02   \n",
            "201  (2023-09-01 03:32:00, 2023-09-01 03:32:10)  adId_10  campaignId_01   \n",
            "202  (2023-09-01 03:31:40, 2023-09-01 03:31:50)  adId_04  campaignId_03   \n",
            "\n",
            "     percentage  \n",
            "0         20.29  \n",
            "1         67.39  \n",
            "2         60.95  \n",
            "3         68.30  \n",
            "4         69.02  \n",
            "..          ...  \n",
            "198       58.44  \n",
            "199       19.40  \n",
            "200       72.09  \n",
            "201       18.99  \n",
            "202       63.94  \n",
            "\n",
            "[203 rows x 4 columns]\n"
          ]
        },
        {
          "output_type": "execute_result",
          "data": {
            "text/plain": [
              "False"
            ]
          },
          "metadata": {},
          "execution_count": 19
        }
      ]
    },
    {
      "cell_type": "code",
      "source": [
        "# Stop job\n",
        "query.stop()"
      ],
      "metadata": {
        "id": "8TJA1zK2T-uQ"
      },
      "execution_count": null,
      "outputs": []
    }
  ],
  "metadata": {
    "colab": {
      "provenance": []
    },
    "kernelspec": {
      "display_name": "Python 3 (ipykernel)",
      "language": "python",
      "name": "python3"
    },
    "language_info": {
      "codemirror_mode": {
        "name": "ipython",
        "version": 3
      },
      "file_extension": ".py",
      "mimetype": "text/x-python",
      "name": "python",
      "nbconvert_exporter": "python",
      "pygments_lexer": "ipython3",
      "version": "3.10.6"
    }
  },
  "nbformat": 4,
  "nbformat_minor": 0
}